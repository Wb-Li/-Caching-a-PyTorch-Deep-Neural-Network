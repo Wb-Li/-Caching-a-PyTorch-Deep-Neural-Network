{
 "cells": [
  {
   "cell_type": "code",
   "execution_count": null,
   "id": "2affbd4e-2f5a-4410-991e-efe0d56bfd34",
   "metadata": {
    "tags": []
   },
   "outputs": [],
   "source": [
    "%cd \"C:\\\\Users\\\\Administrator\\\\Desktop\\\\强化学习\\\\中证50指数增强\\\\\"\n",
    "path = \"C:\\\\Users\\\\Administrator\\\\Desktop\\\\强化学习\\\\中证50指数增强\\\\\"\n",
    "\n",
    "import warnings\n",
    "warnings.filterwarnings(\"ignore\")\n",
    "import time\n",
    "import numpy as np\n",
    "import pandas as pd\n",
    "#显示Dateframe所有列(参数设置为None代表显示所有行，也可以自行设置数字)\n",
    "pd.set_option('display.max_columns',None)\n",
    "#显示Dateframe所有行\n",
    "pd.set_option('display.max_rows',None)\n",
    "#设置Dataframe数据的显示长度，默认为50\n",
    "pd.set_option('max_colwidth',None)\n",
    "#不显示科学计数法，保留5位小数\n",
    "pd.set_option('display.float_format', lambda x: '%.5f' % x)\n",
    "\n",
    "import datetime\n",
    "import os\n",
    "from tqdm import tqdm\n",
    "import baostock as bs"
   ]
  },
  {
   "cell_type": "markdown",
   "id": "bc62f4b3-063b-491d-87e1-815e0adbef4f",
   "metadata": {},
   "source": [
    "## Check normal stock data length (training data)\n"
   ]
  },
  {
   "cell_type": "code",
   "execution_count": null,
   "id": "8ef72673-5cfc-4f36-b4ba-01f7bd354091",
   "metadata": {
    "tags": []
   },
   "outputs": [],
   "source": [
    "train_start = '2018-01-01'\n",
    "train_end = '2023-06-01'\n",
    "test_start = '2023-01-01'\n",
    "test_end = str(datetime.date.today())\n",
    "#### 登陆系统 ####\n",
    "lg = bs.login()\n",
    "#### 获取沪深A股历史K线数据 ####\n",
    "rs = bs.query_history_k_data_plus(\"sh.600000\",\n",
    "    \"date, code, open, high, low, close, volume, amount, turn, pctChg\",\n",
    "    start_date=train_start, end_date=train_end,\n",
    "    frequency=\"d\", adjustflag=\"1\")\n",
    "#### 打印结果集 ####\n",
    "data_list = []\n",
    "while (rs.error_code == '0') & rs.next():\n",
    "    # 获取一条记录，将记录合并在一起\n",
    "    data_list.append(rs.get_row_data())\n",
    "result = pd.DataFrame(data_list, columns=rs.fields)\n",
    "train_standard_len = len(result)\n",
    "\n",
    "train_standard_len"
   ]
  },
  {
   "cell_type": "markdown",
   "id": "9e5ba6f4-e890-47b9-a364-6a7d684c40fd",
   "metadata": {},
   "source": [
    "## Get index constituent stocks\n"
   ]
  },
  {
   "cell_type": "code",
   "execution_count": null,
   "id": "3e660592-cd73-4349-a0b2-3d69f7a20d0b",
   "metadata": {
    "scrolled": true,
    "tags": []
   },
   "outputs": [],
   "source": [
    "# 获取上证50成分股\n",
    "rs = bs.query_sz50_stocks()\n",
    "# 打印结果集\n",
    "sz50_stocks = []\n",
    "while (rs.error_code == '0') & rs.next():\n",
    "    # 获取一条记录，将记录合并在一起\n",
    "    sz50_stocks.append(rs.get_row_data())\n",
    "result = pd.DataFrame(sz50_stocks, columns=rs.fields)\n",
    "\n",
    "result.shape, result.head(5)"
   ]
  },
  {
   "cell_type": "markdown",
   "id": "a805ac46-245b-43f5-8e39-271062e178bb",
   "metadata": {},
   "source": [
    "## Get component data (training data)"
   ]
  },
  {
   "cell_type": "code",
   "execution_count": null,
   "id": "8ec05357-288c-4e9b-a47e-f62bb38eb5fd",
   "metadata": {
    "scrolled": true,
    "tags": []
   },
   "outputs": [],
   "source": [
    "pre_stock_pool = result.code.to_list()\n",
    "stock_pool = []\n",
    "train_df = pd.DataFrame()\n",
    "for i in tqdm(range(len(pre_stock_pool))):\n",
    "    tmp_stock = pre_stock_pool[i]\n",
    "    rs = bs.query_history_k_data_plus(tmp_stock,\n",
    "    \"date, code, open, high, low, close, volume, amount, turn, pctChg, peTTM, pbMRQ, psTTM, pcfNcfTTM\",\n",
    "    start_date=train_start, end_date=train_end,\n",
    "    frequency=\"d\", adjustflag=\"1\")\n",
    "    #### 打印结果集 ####\n",
    "    data_list = []\n",
    "    while (rs.error_code == '0') & rs.next():\n",
    "        # 获取一条记录，将记录合并在一起\n",
    "        data_list.append(rs.get_row_data())\n",
    "    tmp_result = pd.DataFrame(data_list, columns=rs.fields)\n",
    "    if len(tmp_result) != train_standard_len:\n",
    "        print('Skipping: ', tmp_stock, ' due to insufficient data length')\n",
    "    else:\n",
    "        train_df = train_df.append(tmp_result)\n",
    "        stock_pool.append(tmp_stock)\n",
    "    time.sleep(1)\n",
    "train_df.to_csv('数据//train_df.csv')\n",
    "\n",
    "len(stock_pool), train_df.shape, train_df.head(5)"
   ]
  },
  {
   "cell_type": "markdown",
   "id": "d3b1de1f-8e28-4198-9d93-3dcfa349f717",
   "metadata": {},
   "source": [
    "## Get component data (test data)"
   ]
  },
  {
   "cell_type": "code",
   "execution_count": null,
   "id": "5e616eaf-2f01-4062-9fc9-ed4d652a40e9",
   "metadata": {
    "tags": []
   },
   "outputs": [],
   "source": [
    "test_df = pd.DataFrame()\n",
    "for i in tqdm(range(len(stock_pool))):\n",
    "    tmp_stock = stock_pool[i]\n",
    "    rs = bs.query_history_k_data_plus(tmp_stock,\n",
    "    \"date, code, open, high, low, close, volume, amount, turn, pctChg, peTTM, pbMRQ, psTTM, pcfNcfTTM\",\n",
    "    start_date=test_start, end_date=test_end,\n",
    "    frequency=\"d\", adjustflag=\"1\")\n",
    "    #### 打印结果集 ####\n",
    "    data_list = []\n",
    "    while (rs.error_code == '0') & rs.next():\n",
    "        # 获取一条记录，将记录合并在一起\n",
    "        data_list.append(rs.get_row_data())\n",
    "    tmp_result = pd.DataFrame(data_list, columns=rs.fields)\n",
    "    test_df = test_df.append(tmp_result)\n",
    "    time.sleep(1)\n",
    "test_df.to_csv('数据//test_df.csv')\n",
    "\n",
    "test_df.shape, test_df.head(5)"
   ]
  },
  {
   "cell_type": "code",
   "execution_count": null,
   "id": "b0a90e87-fe3c-4274-a026-cd8061437d5a",
   "metadata": {},
   "outputs": [],
   "source": []
  }
 ],
 "metadata": {
  "kernelspec": {
   "display_name": "Python 3 (ipykernel)",
   "language": "python",
   "name": "python3"
  },
  "language_info": {
   "codemirror_mode": {
    "name": "ipython",
    "version": 3
   },
   "file_extension": ".py",
   "mimetype": "text/x-python",
   "name": "python",
   "nbconvert_exporter": "python",
   "pygments_lexer": "ipython3",
   "version": "3.10.9"
  }
 },
 "nbformat": 4,
 "nbformat_minor": 5
}
