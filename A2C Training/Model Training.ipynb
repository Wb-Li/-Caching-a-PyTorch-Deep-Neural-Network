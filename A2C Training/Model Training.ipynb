{
 "cells": [
  {
   "cell_type": "code",
   "execution_count": null,
   "id": "1e371d72",
   "metadata": {
    "ExecuteTime": {
     "end_time": "2023-05-11T16:35:43.491973Z",
     "start_time": "2023-05-11T16:35:43.125733Z"
    },
    "tags": []
   },
   "outputs": [],
   "source": [
    "%cd \"C:\\\\Users\\\\Administrator\\\\Desktop\\\\强化学习\\\\中证50指数增强\\\\\"\n",
    "path = \"C:\\\\Users\\\\Administrator\\\\Desktop\\\\强化学习\\\\中证50指数增强\\\\\"\n",
    "\n",
    "import warnings\n",
    "warnings.filterwarnings(\"ignore\")\n",
    "import numpy as np\n",
    "import pandas as pd\n",
    "#显示Dateframe所有列(参数设置为None代表显示所有行，也可以自行设置数字)\n",
    "pd.set_option('display.max_columns',None)\n",
    "#显示Dateframe所有行\n",
    "pd.set_option('display.max_rows',None)\n",
    "#设置Dataframe数据的显示长度，默认为50\n",
    "pd.set_option('max_colwidth',None)\n",
    "#不显示科学计数法，保留5位小数\n",
    "pd.set_option('display.float_format', lambda x: '%.5f' % x)\n",
    "import random\n",
    "from stock_portfoilo_env import *\n",
    "from stable_baselines3 import *\n",
    "from stable_baselines3.common.callbacks import *\n",
    "from stable_baselines3.common.vec_env import *\n",
    "from rl_zoo3 import linear_schedule\n",
    "from torch import nn as nn\n",
    "import time\n",
    "import datetime\n",
    "\n",
    "import talib\n",
    "import torch\n",
    "import os\n",
    "import optuna\n",
    "from optuna.visualization import *\n",
    "from tqdm import tqdm"
   ]
  },
  {
   "cell_type": "markdown",
   "id": "085bbc00",
   "metadata": {},
   "source": [
    "# Read data"
   ]
  },
  {
   "cell_type": "code",
   "execution_count": null,
   "id": "95482fd5-b5a1-4fb3-bdfe-9f32c26687fa",
   "metadata": {
    "ExecuteTime": {
     "end_time": "2023-04-13T14:44:53.848891Z",
     "start_time": "2023-04-13T14:44:53.635751Z"
    },
    "execution": {
     "iopub.execute_input": "2023-12-20T06:10:23.879363Z",
     "iopub.status.busy": "2023-12-20T06:10:23.879363Z",
     "iopub.status.idle": "2023-12-20T06:10:24.670167Z",
     "shell.execute_reply": "2023-12-20T06:10:24.669632Z",
     "shell.execute_reply.started": "2023-12-20T06:10:23.879363Z"
    },
    "tags": []
   },
   "outputs": [],
   "source": [
    "train_obs = np.load(path+'处理后数据\\\\train_obs160.npy', allow_pickle=True).astype('float32')\n",
    "train_symbols = np.load(path+'处理后数据\\\\train_symbols160.npy', allow_pickle=True)\n",
    "train_price = np.load(path+'处理后数据\\\\train_price160.npy', allow_pickle=True)\n",
    "valid_factors = np.load(path+'数据分析\\\\'+'valid_factors.npy', allow_pickle=True).tolist()\n",
    "stock_num = len(train_symbols[0])-1\n",
    "\n",
    "train_obs.shape, train_symbols.shape, train_price.shape"
   ]
  },
  {
   "attachments": {},
   "cell_type": "markdown",
   "id": "bcd493da-fc37-4153-a99a-b2f73f5f90de",
   "metadata": {},
   "source": [
    "## Data quality check\n",
    "### In the notebook prepared for the data set, all positive and negative infinities and missing values were filled with zeros. Therefore, if the processed data has an unusually high number of 0 values, then it is an indication that there is a problem with the factors or a problem with the way the data was processed."
   ]
  },
  {
   "cell_type": "code",
   "execution_count": null,
   "id": "5e62370c-ee1d-4cb8-81bc-1acbe617b863",
   "metadata": {
    "execution": {
     "iopub.execute_input": "2023-12-20T06:10:24.672693Z",
     "iopub.status.busy": "2023-12-20T06:10:24.671693Z",
     "iopub.status.idle": "2023-12-20T06:10:27.441139Z",
     "shell.execute_reply": "2023-12-20T06:10:27.441139Z",
     "shell.execute_reply.started": "2023-12-20T06:10:24.672693Z"
    },
    "scrolled": true,
    "tags": []
   },
   "outputs": [],
   "source": [
    "zeros = []\n",
    "names = []\n",
    "columns = valid_factors\n",
    "for i in range(train_obs.shape[-1]):\n",
    "    tmp_zeros = (train_obs[np.where(train_obs[:,:,i]==0)].shape[0])\n",
    "    names.append(columns[i])\n",
    "    zeros.append(tmp_zeros)\n",
    "    \n",
    "data_quality = pd.DataFrame()\n",
    "names.append('Total Zeros')\n",
    "zeros.append(train_obs[np.where(train_obs==0)].shape[0])\n",
    "names.append('Total Zeros Pct')\n",
    "zeros.append((train_obs[np.where(train_obs==0)].shape[0])/(train_obs.flatten().shape[0]))\n",
    "data_quality['name'] = names\n",
    "data_quality['zeros'] = zeros\n",
    "\n",
    "data_quality"
   ]
  },
  {
   "cell_type": "code",
   "execution_count": null,
   "id": "08a8c48a-7bdf-4127-be3d-f7e8963e7cd9",
   "metadata": {
    "execution": {
     "iopub.execute_input": "2023-12-20T06:10:27.443142Z",
     "iopub.status.busy": "2023-12-20T06:10:27.442140Z",
     "iopub.status.idle": "2023-12-20T06:10:27.473185Z",
     "shell.execute_reply": "2023-12-20T06:10:27.473185Z",
     "shell.execute_reply.started": "2023-12-20T06:10:27.443142Z"
    },
    "tags": []
   },
   "outputs": [],
   "source": [
    "del train_obs\n",
    "del train_price\n",
    "del train_symbols"
   ]
  },
  {
   "attachments": {},
   "cell_type": "markdown",
   "id": "2f9ced24",
   "metadata": {},
   "source": [
    "## Callback Function"
   ]
  },
  {
   "cell_type": "code",
   "execution_count": null,
   "id": "7799c286",
   "metadata": {
    "ExecuteTime": {
     "end_time": "2023-04-13T14:44:54.936605Z",
     "start_time": "2023-04-13T14:44:54.923597Z"
    },
    "code_folding": [
     1,
     19,
     24
    ],
    "tags": []
   },
   "outputs": [],
   "source": [
    "class SaveOnBestTrainingRewardCallback(BaseCallback):\n",
    "    def __init__(self, log_dir, max_round, serial_num, early_stop=True, window=1, features=1, \n",
    "                 std_rolling=1):\n",
    "        super(SaveOnBestTrainingRewardCallback, self).__init__() \n",
    "        self.log_dir = log_dir\n",
    "        self.best_sharpe = -np.inf\n",
    "        self.best_return = -np.inf\n",
    "        self.round = 0\n",
    "        self.max_round = max_round\n",
    "        self.early_stop = early_stop\n",
    "        self.early_stop_counter = 0\n",
    "        self.window = window\n",
    "        self.features = features\n",
    "        self.serial_num = serial_num\n",
    "        self.std_rolling = std_rolling\n",
    "        self.last_return = -np.inf\n",
    "        self.IC_his = []\n",
    "        self.lack_of_trade = False\n",
    "        self.early_stop_threshold = 35\n",
    "    \n",
    "    def generate_random_str(self, randomlength=16):\n",
    "        \"\"\"\n",
    "        生成一个指定长度的随机字符串\n",
    "        \"\"\"\n",
    "        seed = int(time.time()*100000)\n",
    "        random.seed(seed)\n",
    "        random_str =''\n",
    "        base_str ='ABCDEFGHIGKLMNOPQRSTUVWXYZabcdefghigklmnopqrstuvwxyz0123456789'\n",
    "        length =len(base_str) -1\n",
    "        for i in range(randomlength):\n",
    "            random_str +=base_str[random.randint(0, length)]\n",
    "        return random_str\n",
    "    \n",
    "    def _init_callback(self) -> None:\n",
    "        # Create folder if needed\n",
    "        if self.log_dir is not None:\n",
    "            os.makedirs(self.log_dir, exist_ok=True)\n",
    "\n",
    "    def _on_step(self) -> bool:\n",
    "        done = self.locals['infos'][0]['done']\n",
    "        if done == True:      \n",
    "            current_time = time.strftime('%Y-%m-%d_%H-%M-%S',time.localtime(time.time()))\n",
    "            print('------------------Callback Start------------------')\n",
    "            print(\"Round\", self.round, ' has finished at ', current_time, 'Early Stop Counter: ', self.early_stop_counter)\n",
    "            print('#################################### Save and Test Results####################################')\n",
    "            alphabet = 'abcdefghijklmnopqrstuvwxyz1234567890'\n",
    "            tmp_serial_num = str(random.sample(alphabet, 10)).replace(\",\",\"\").replace(\"'\",\"\").replace(\"[\",\"\").replace(\"]\",\"\").replace(\" \",\"\")\n",
    "            tmp_test_obs = np.load(path+'处理后数据\\\\test_obs'+str(self.std_rolling)+'.npy', allow_pickle=True).astype('float32')[:120]\n",
    "            tmp_test_price = np.load(path+'处理后数据\\\\test_price'+str(self.std_rolling)+'.npy', allow_pickle=True)[:120]\n",
    "            tmp_test_symbols = np.load(path+'处理后数据\\\\test_symbols'+str(self.std_rolling)+'.npy', allow_pickle=True)[:120]\n",
    "            tmp_test_obs_1 = tmp_test_obs[:,-self.window:,:]\n",
    "            commission_rate = 0.00015\n",
    "            slippage = 0.02\n",
    "            test_env = TradingEnv(obs=tmp_test_obs_1, price=tmp_test_price, symbols=tmp_test_symbols, both_pos=True, \n",
    "                        commission_rate=commission_rate, valid_folder=None, slippage=slippage, calculate_fund=True,\n",
    "                        commission=None, test=False, valid=False, active_shares=True, cash_out_stop=False, \n",
    "                        returns=1, action_type=2, num_stock=stock_num)\n",
    "            obs, info = test_env.reset()\n",
    "            tmp_info_1 = None\n",
    "            print('#################################### Out-of-sample Results ####################################')\n",
    "            for i in range(tmp_test_obs_1.shape[0]-2):\n",
    "                action, _states = self.model.predict(obs, deterministic=True)\n",
    "                obs, rewards, dones, truncated, info = test_env.step(action)\n",
    "                if dones == True:\n",
    "                    tmp_info_1 = info\n",
    "                else:\n",
    "                    pass\n",
    "                \n",
    "            return_1 = out_sample_return = tmp_info_1['return rate']\n",
    "            sharpe_1 = out_sample_sharpe = tmp_info_1['sharpe']\n",
    "            out_sample_long = tmp_info_1['long trades']\n",
    "            out_sample_short = tmp_info_1['short trades']\n",
    "                \n",
    "            if out_sample_long == 0 or out_sample_short == 0:\n",
    "                self.lack_of_trade = True\n",
    "            else:\n",
    "                self.lack_of_trade = False\n",
    "                \n",
    "            if out_sample_long == 0:\n",
    "                long_trades_1 = 0\n",
    "            else:\n",
    "                long_trades_1 = out_sample_long\n",
    "                \n",
    "            if out_sample_short == 0:\n",
    "                short_trades_1 = 0\n",
    "            else:\n",
    "                short_trades_1 = out_sample_short         \n",
    "                \n",
    "            if long_trades_1 == 0 or short_trades_1 == 0:\n",
    "                self.early_stop_counter += 1\n",
    "            else:\n",
    "                pass\n",
    "                \n",
    "            if return_1 == 0 or return_1 == self.last_return:\n",
    "                self.early_stop_counter += 1\n",
    "            else:\n",
    "                pass\n",
    "                \n",
    "            if return_1 <= self.last_return:\n",
    "                self.early_stop_counter += 1\n",
    "            else:\n",
    "                pass\n",
    "            \n",
    "            if sharpe_1 > self.best_sharpe:\n",
    "                self.best_sharpe = sharpe_1\n",
    "            else:\n",
    "                pass\n",
    "                \n",
    "            current_time = time.strftime('%Y-%m-%d_%H-%M-%S',time.localtime(time.time()))\n",
    "            if out_sample_return > 0.2 and out_sample_long > 0 and out_sample_short > 0:\n",
    "                tmp_serial_num = self.generate_random_str(randomlength=16)\n",
    "                self.model.save(self.log_dir+tmp_serial_num+'_'+str(return_1)+'_'+current_time)\n",
    "                tmp_params = np.asarray([self.window, self.features, self.std_rolling])\n",
    "                np.save(self.log_dir+tmp_serial_num+'_'+str(return_1)+'.npy', tmp_params)\n",
    "                print(\"Saving new best model to: \", self.log_dir+tmp_serial_num+'_'+str(return_1)+'_'+current_time)                       \n",
    "            else:\n",
    "                pass                \n",
    "            if return_1 > self.best_return:\n",
    "                self.best_return = return_1\n",
    "                self.early_stop_counter = 0\n",
    "            else:\n",
    "                pass\n",
    "            print(\"Current Best Return Rate: \" , self.best_return, ', Current Best Sharpe: ', self.best_sharpe)\n",
    "            self.last_return = return_1 \n",
    "            self.round += 1\n",
    "        else:\n",
    "            pass\n",
    "        \n",
    "        if self.round >= self.max_round:\n",
    "            continue_training = False\n",
    "            try:\n",
    "                os.remove(self.log_dir+self.serial_num+'.npy')\n",
    "            except:\n",
    "                pass\n",
    "            np.save(self.log_dir+self.serial_num+'.npy', self.best_return)#self.IC_his)\n",
    "        elif self.early_stop == True and self.early_stop_counter > self.early_stop_threshold:\n",
    "            continue_training = False\n",
    "            try:\n",
    "                os.remove(self.log_dir+self.serial_num+'.npy')\n",
    "            except:\n",
    "                pass\n",
    "            np.save(self.log_dir+self.serial_num+'.npy', self.best_return)#self.IC_his)\n",
    "        else:\n",
    "            continue_training = True\n",
    "        if self.round >= 80 and self.best_return <= 0:\n",
    "            continue_training = False\n",
    "        else:\n",
    "            pass\n",
    "        return continue_training"
   ]
  },
  {
   "cell_type": "code",
   "execution_count": null,
   "id": "f9610f99",
   "metadata": {
    "ExecuteTime": {
     "end_time": "2023-04-13T14:44:54.952616Z",
     "start_time": "2023-04-13T14:44:54.938607Z"
    },
    "code_folding": [
     1,
     3
    ],
    "execution": {
     "iopub.execute_input": "2023-12-20T06:10:27.507215Z",
     "iopub.status.busy": "2023-12-20T06:10:27.507215Z",
     "iopub.status.idle": "2023-12-20T06:10:27.521229Z",
     "shell.execute_reply": "2023-12-20T06:10:27.521229Z",
     "shell.execute_reply.started": "2023-12-20T06:10:27.507215Z"
    },
    "tags": []
   },
   "outputs": [],
   "source": [
    "log_dir = path+\"best_models\\\\\"\n",
    "if os.path.exists(log_dir) == True:\n",
    "    pass\n",
    "else:\n",
    "    os.makedirs(log_dir) "
   ]
  },
  {
   "cell_type": "markdown",
   "id": "67b7243b-4f2b-4ee6-877b-1a1a8fe11381",
   "metadata": {},
   "source": [
    "## Check the data set with default parameters\n",
    "### The default parameter should be able to gradually increase the yield to within -100% without continuous non-trading."
   ]
  },
  {
   "cell_type": "raw",
   "id": "c8ee0ef8-ec35-4d74-aaf1-46ef79abca02",
   "metadata": {
    "ExecuteTime": {
     "start_time": "2022-11-12T03:23:11.370Z"
    },
    "code_folding": [
     4
    ],
    "tags": []
   },
   "source": [
    "rounds = 200\n",
    "log_dir = path+\"best_models\\\\\"\n",
    "characters = '9999999999'\n",
    "torch.cuda.set_device(1)\n",
    "tmp_train_obs = train_obs\n",
    "env = TradingEnv(obs=tmp_train_obs, price=train_price, symbols=train_symbols, initial_fund=15000, \n",
    "                pos_factor=0.5, both_pos=True, short_only=False, long_only=False, \n",
    "                commission_rate=0.00015, valid_folder=None, slippage=2, \n",
    "                commission=None, test=False, valid=False, active_shares=False, cash_out_stop=False, \n",
    "                returns=2, calculate_fund=False, action_type=2)\n",
    "rounds_of_train = (train_obs.shape[0])*rounds\n",
    "model = A2C(policy=\"MlpPolicy\", env=env, verbose=1, seed=123456, device='cuda')\n",
    "model.learn(total_timesteps=rounds_of_train, log_interval=None, \n",
    "            callback=SaveOnBestTrainingRewardCallback(log_dir, rounds, serial_num=characters, early_stop=False, window=85, features=1, \n",
    "                                                      std_rolling=60, save_and_test=False))\n",
    "torch.cuda.empty_cache()"
   ]
  },
  {
   "attachments": {},
   "cell_type": "markdown",
   "id": "e4c1f891",
   "metadata": {},
   "source": [
    "## Parameters Optimization"
   ]
  },
  {
   "cell_type": "code",
   "execution_count": null,
   "id": "d0244aab-44c5-47c3-9008-f1593d1bd9b7",
   "metadata": {
    "execution": {
     "iopub.execute_input": "2023-12-20T06:10:27.522230Z",
     "iopub.status.busy": "2023-12-20T06:10:27.522230Z",
     "iopub.status.idle": "2023-12-20T06:10:27.537790Z",
     "shell.execute_reply": "2023-12-20T06:10:27.537244Z",
     "shell.execute_reply.started": "2023-12-20T06:10:27.522230Z"
    }
   },
   "outputs": [],
   "source": [
    "def generate_random_str(randomlength=16):\n",
    "    \"\"\"\n",
    "    生成一个指定长度的随机字符串\n",
    "    \"\"\"\n",
    "    seed = int(time.time()*100000)\n",
    "    random.seed(seed)\n",
    "    random_str =''\n",
    "    base_str ='ABCDEFGHIGKLMNOPQRSTUVWXYZabcdefghigklmnopqrstuvwxyz0123456789'\n",
    "    length =len(base_str) -1\n",
    "    for i in range(randomlength):\n",
    "        random_str +=base_str[random.randint(0, length)]\n",
    "    return random_str"
   ]
  },
  {
   "attachments": {},
   "cell_type": "markdown",
   "id": "11310143-6bd3-406a-9925-17eb872377c0",
   "metadata": {},
   "source": [
    "## TPE"
   ]
  },
  {
   "cell_type": "code",
   "execution_count": null,
   "id": "22437467-fc95-4e4b-84ac-a7c24a6939d0",
   "metadata": {},
   "outputs": [],
   "source": [
    "starttime = datetime.datetime.now()"
   ]
  },
  {
   "cell_type": "code",
   "execution_count": null,
   "id": "1dc8f263-28c6-4b72-ba67-0f5c5d05b46d",
   "metadata": {
    "execution": {
     "iopub.execute_input": "2023-12-20T06:10:27.538793Z",
     "iopub.status.busy": "2023-12-20T06:10:27.538793Z"
    },
    "scrolled": true,
    "tags": []
   },
   "outputs": [],
   "source": [
    "def objective(trial:optuna.Trial):\n",
    "    torch.cuda.empty_cache()\n",
    "    torch.cuda.set_device(1)\n",
    "    serial_num = generate_random_str()\n",
    "    print(serial_num)\n",
    "    #################################################################################################################################\n",
    "    STD_period = 160\n",
    "    tmp_train_obs = np.load(path+'处理后数据\\\\train_obs'+str(STD_period)+'.npy', allow_pickle=True).astype('float32')\n",
    "    tmp_train_price = np.load(path+'处理后数据\\\\train_price'+str(STD_period)+'.npy', allow_pickle=True)\n",
    "    tmp_train_symbols = np.load(path+'处理后数据\\\\train_symbols'+str(STD_period)+'.npy', allow_pickle=True)\n",
    "    window_size = int(trial.suggest_int(\"window_size\", 30, tmp_train_obs.shape[1], 5))\n",
    "    choose_features = True #trial.suggest_categorical(\"choose_features\", [False, True])\n",
    "    features = []\n",
    "    tmp_train_obs_1 = []\n",
    "    first_column = True\n",
    "    for i in range(len(columns)):\n",
    "        features.append(True)\n",
    "    \n",
    "    tmp_train_obs_1 = tmp_train_obs[:,-window_size:,:]\n",
    "    print(tmp_train_obs_1.shape, tmp_train_price.shape, tmp_train_symbols.shape)\n",
    "    #################################################################################################################################\n",
    "    n_layers_value = trial.suggest_int(\"n_layers_value\", 1, 5, 1)\n",
    "    hidden_size_value = trial.suggest_int(\"hidden_size_value\", 64, 512, 16)\n",
    "    gamma = trial.suggest_discrete_uniform('gamma', 0.5, 0.9, 0.05)\n",
    "    #gamma = trial.suggest_categorical(\"gamma\", [0.9, 0.95, 0.98, 0.99, 0.995, 0.999, 0.9999])\n",
    "    normalize_advantage = trial.suggest_categorical(\"normalize_advantage\", [False, True])\n",
    "    max_grad_norm = trial.suggest_categorical(\"max_grad_norm\", [0.3, 0.4, 0.5, 0.6, 0.7, 0.8, 0.9, 1, 1.5, \n",
    "                                                                2, 2.5, 3, 3.5, 4, 4.5, 5])\n",
    "    use_rms_prop = trial.suggest_categorical(\"use_rms_prop\", [False, True])\n",
    "    gae_lambda = trial.suggest_discrete_uniform('gae_lambda', 0.5, 1, 0.05)\n",
    "    #gae_lambda = trial.suggest_categorical(\"gae_lambda\", [0.8, 0.9, 0.92, 0.95, 0.98, 0.99, 1.0])\n",
    "    n_steps = trial.suggest_int(\"n_steps\", 32, 4096, 32)\n",
    "    learning_rate = trial.suggest_float(\"learning_rate\", 1e-5, 1, log=True)\n",
    "    ent_coef = trial.suggest_float(\"ent_coef\", 0.00000001, 0.1, log=True)\n",
    "    vf_coef = trial.suggest_float(\"vf_coef\", 0, 1)\n",
    "    ortho_init = trial.suggest_categorical(\"ortho_init\", [False, True])\n",
    "    lr_schedule = trial.suggest_categorical(\"lr_schedule\", [\"linear\", \"constant\"])\n",
    "    activation_fn_name = trial.suggest_categorical(\"activation_fn\", [\"tanh\", \"relu\"])\n",
    "    activation_fn = {\"tanh\": nn.Tanh, \"relu\": nn.ReLU}[activation_fn_name]\n",
    "    #################################################################################################################################\n",
    "    slippage = 0.02\n",
    "    commission_rate = 0.00015\n",
    "    env = TradingEnv(obs=tmp_train_obs_1, price=tmp_train_price, symbols=tmp_train_symbols, both_pos=True, \n",
    "                    commission_rate=commission_rate, valid_folder=None, slippage=slippage, calculate_fund=True,\n",
    "                    commission=None, test=False, valid=False, active_shares=True, cash_out_stop=False, \n",
    "                    returns=1, action_type=1, num_stock=stock_num)\n",
    "    rounds = 100\n",
    "    save_and_test = True\n",
    "    save_best = SaveOnBestTrainingRewardCallback(log_dir, rounds, serial_num, True, window_size, features, STD_period)\n",
    "    rounds_of_train = (tmp_train_obs.shape[0])*rounds\n",
    "    if lr_schedule == \"linear\":\n",
    "        learning_rate = linear_schedule(learning_rate)\n",
    "    else:\n",
    "        pass\n",
    "    net_pi = [hidden_size_value]*n_layers_value\n",
    "    net_vf = [hidden_size_value]*n_layers_value\n",
    "    policy_kwargs = dict(net_arch=dict(pi=net_pi, vf=net_vf), activation_fn=activation_fn, ortho_init=ortho_init)\n",
    "    print('Now Using GPU No.', torch.cuda.current_device())\n",
    "    #################################################################################################################################\n",
    "    #with np.errstate(divide='ignore'):\n",
    "    try:   \n",
    "        model = A2C(policy='MlpPolicy', env=env, learning_rate=learning_rate, n_steps=n_steps, \n",
    "                    gamma=gamma, vf_coef=vf_coef, max_grad_norm=max_grad_norm, use_rms_prop=use_rms_prop, \n",
    "                    normalize_advantage=normalize_advantage, verbose=1, seed=123456, device='cuda', \n",
    "                    gae_lambda=gae_lambda, ent_coef=ent_coef, policy_kwargs=policy_kwargs)\n",
    "        model.learn(total_timesteps=rounds_of_train, callback=save_best, log_interval=None)\n",
    "        return_ = np.load(log_dir+serial_num+'.npy', allow_pickle=True)\n",
    "        os.remove(log_dir+serial_num+'.npy')\n",
    "        torch.cuda.empty_cache()\n",
    "    except Exception as e:\n",
    "        print()\n",
    "        print('********************Error Info Start********************')\n",
    "        print(e)\n",
    "        print('********************Error Info End********************')\n",
    "        print()\n",
    "        return_ = -np.inf\n",
    "        torch.cuda.empty_cache()\n",
    "    model = None\n",
    "    return return_\n",
    "study = optuna.create_study(direction=\"maximize\")\n",
    "study.optimize(objective, n_trials=350, n_jobs=5)"
   ]
  },
  {
   "cell_type": "code",
   "execution_count": null,
   "id": "fe6de36c-c071-42ef-97b1-6c4ea7dbd9f9",
   "metadata": {},
   "outputs": [],
   "source": [
    "endtime = datetime.datetime.now()\n",
    "endtime - starttime"
   ]
  },
  {
   "cell_type": "code",
   "execution_count": null,
   "id": "32702859-2170-4ee1-8d23-bae8a7cd10e7",
   "metadata": {
    "tags": []
   },
   "outputs": [],
   "source": [
    "optuna.visualization.plot_optimization_history(study)"
   ]
  },
  {
   "cell_type": "code",
   "execution_count": null,
   "id": "a1e5c95c-adb9-4cf4-a5bb-87ec9a3eddc2",
   "metadata": {
    "tags": []
   },
   "outputs": [],
   "source": [
    "optuna.visualization.plot_param_importances(study)"
   ]
  },
  {
   "cell_type": "code",
   "execution_count": null,
   "id": "2b811342-d64b-4e10-833a-cea31752769a",
   "metadata": {
    "tags": []
   },
   "outputs": [],
   "source": [
    "optuna.visualization.plot_slice(study, params=[\"STD_period\", \"n_layers_value\", \"hidden_size_value\", \"window_size\", \"n_steps\"])"
   ]
  }
 ],
 "metadata": {
  "kernelspec": {
   "display_name": "Python 3 (ipykernel)",
   "language": "python",
   "name": "python3"
  },
  "language_info": {
   "codemirror_mode": {
    "name": "ipython",
    "version": 3
   },
   "file_extension": ".py",
   "mimetype": "text/x-python",
   "name": "python",
   "nbconvert_exporter": "python",
   "pygments_lexer": "ipython3",
   "version": "3.10.9"
  },
  "toc": {
   "base_numbering": 1,
   "nav_menu": {},
   "number_sections": true,
   "sideBar": true,
   "skip_h1_title": false,
   "title_cell": "Table of Contents",
   "title_sidebar": "Contents",
   "toc_cell": false,
   "toc_position": {
    "height": "calc(100% - 180px)",
    "left": "10px",
    "top": "150px",
    "width": "512px"
   },
   "toc_section_display": true,
   "toc_window_display": false
  },
  "varInspector": {
   "cols": {
    "lenName": 16,
    "lenType": 16,
    "lenVar": 40
   },
   "kernels_config": {
    "python": {
     "delete_cmd_postfix": "",
     "delete_cmd_prefix": "del ",
     "library": "var_list.py",
     "varRefreshCmd": "print(var_dic_list())"
    },
    "r": {
     "delete_cmd_postfix": ") ",
     "delete_cmd_prefix": "rm(",
     "library": "var_list.r",
     "varRefreshCmd": "cat(var_dic_list()) "
    }
   },
   "types_to_exclude": [
    "module",
    "function",
    "builtin_function_or_method",
    "instance",
    "_Feature"
   ],
   "window_display": false
  },
  "vscode": {
   "interpreter": {
    "hash": "71159c3bea1635b2cdba277ecffbc628f93ffdcebf06bf6a363dd68ab8387877"
   }
  }
 },
 "nbformat": 4,
 "nbformat_minor": 5
}
