{
 "cells": [
  {
   "cell_type": "code",
   "execution_count": null,
   "id": "00dad206-4417-4bff-98c5-1cdfba47d767",
   "metadata": {
    "tags": []
   },
   "outputs": [],
   "source": [
    "%cd \"C:\\\\Users\\\\Administrator\\\\Desktop\\\\强化学习\\\\中证50指数增强\\\\\"\n",
    "path = \"C:\\\\Users\\\\Administrator\\\\Desktop\\\\强化学习\\\\中证50指数增强\\\\\"\n",
    "\n",
    "import warnings\n",
    "warnings.filterwarnings(\"ignore\")\n",
    "import time\n",
    "import numpy as np\n",
    "import pandas as pd\n",
    "#显示Dateframe所有列(参数设置为None代表显示所有行，也可以自行设置数字)\n",
    "pd.set_option('display.max_columns',None)\n",
    "#显示Dateframe所有行\n",
    "pd.set_option('display.max_rows',None)\n",
    "#设置Dataframe数据的显示长度，默认为50\n",
    "pd.set_option('max_colwidth',None)\n",
    "#不显示科学计数法，保留5位小数\n",
    "pd.set_option('display.float_format', lambda x: '%.5f' % x)\n",
    "\n",
    "from talib_factors import *\n",
    "import datetime\n",
    "import os\n",
    "from tqdm import tqdm\n",
    "import talib"
   ]
  },
  {
   "cell_type": "markdown",
   "id": "a0d5bf74-c817-4c2e-9650-48919676eaa0",
   "metadata": {},
   "source": [
    "## Factor Calculation Function"
   ]
  },
  {
   "cell_type": "code",
   "execution_count": null,
   "id": "a26b011c",
   "metadata": {},
   "outputs": [],
   "source": [
    "train_df = pd.read_csv('数据//train_df.csv').drop(columns='Unnamed: 0')\n",
    "columns_to_keep = get_factors(train_df).columns.to_list()\n",
    "\n",
    "columns_to_keep"
   ]
  },
  {
   "cell_type": "code",
   "execution_count": null,
   "id": "5fdbfd90-95b2-4a6e-8938-f969b2a5fa42",
   "metadata": {},
   "outputs": [],
   "source": [
    "def filter_extreme_3sigma(data, n=3, times=3): \n",
    "    # times进行times次3 sigma处理\n",
    "    series = data.copy()\n",
    "    for i in range(times):\n",
    "        mean = series.mean()\n",
    "        std = series.std()\n",
    "        max_range = mean + n*std\n",
    "        min_range = mean - n*std\n",
    "        series = np.clip(series,min_range,max_range)\n",
    "    return series\n",
    "\n",
    "def job_get_factors(i, df, columns_to_keep, std_rolling, factor_background, window_size):\n",
    "    tmp_df = df.iloc[i-(factor_background+window_size+std_rolling):i]\n",
    "    tmp_df_2 = get_factors(train_df)(tmp_df)\n",
    "    tmp_df_2 = tmp_df_2[columns_to_keep]\n",
    "    tmp_df_2 = tmp_df_2.replace([np.inf, -np.inf], np.nan).fillna(0).reset_index(drop=True)\n",
    "    columns = tmp_df_2.drop(columns=['date', 'tic', 'underlaying_symbols']).columns.to_list()\n",
    "    #Standarlization\n",
    "    tmp_df_3 = pd.DataFrame()\n",
    "    for a in columns:\n",
    "        tmp_df_2[a] = tmp_df_2[a].astype('float64')\n",
    "        tmp_df_2[a] = filter_extreme_3sigma(tmp_df_2[a])\n",
    "        tmp_df_2[a] = (tmp_df_2[a]-tmp_df_2[a].rolling(window=std_rolling, center=False).mean())/\\\n",
    "                       tmp_df_2[a].rolling(window=std_rolling, center=False).std()\n",
    "\n",
    "    tmp_df_3 = tmp_df_3.append(tmp_df_2.drop(tmp_df_2.head(std_rolling).index))\n",
    "    tmp_df_3 = tmp_df_3.replace([np.inf, -np.inf], np.nan).fillna(0)\n",
    "    return tmp_df_3.drop(columns=['date', 'tic', 'underlaying_symbols']).tail(window_size).to_numpy()   "
   ]
  },
  {
   "cell_type": "markdown",
   "id": "1cec6f71-acc9-495f-b75b-db99656e7d92",
   "metadata": {},
   "source": [
    "## Prepare training data"
   ]
  },
  {
   "cell_type": "code",
   "execution_count": null,
   "id": "418d203c-66d9-4d28-9949-22cd98b10e72",
   "metadata": {},
   "outputs": [],
   "source": [
    "std_period = 160\n",
    "factor_background = 125\n",
    "window_size = 85"
   ]
  },
  {
   "cell_type": "code",
   "execution_count": null,
   "id": "3d14b8af-697a-4ac0-b6ce-db6a8377daf8",
   "metadata": {
    "tags": []
   },
   "outputs": [],
   "source": [
    "train_df = pd.read_csv('数据//train_df.csv').drop(columns='Unnamed: 0')\n",
    "stocks = train_df.code.unique()\n",
    "train_len = train_df[train_df.code == stocks[0]].shape[0]\n",
    "train_obs = []\n",
    "train_price = []\n",
    "train_symbols = []\n",
    "for a in tqdm(range(train_len-window_size-factor_background-std_period)):\n",
    "    tmp_obs_df = pd.DataFrame()\n",
    "    tmp_price = []\n",
    "    for b in range(len(stocks)):\n",
    "        tmp_df = train_df[train_df.code == stocks[b]].iloc[a:a+window_size+factor_background+std_period]\n",
    "        tmp_df_1 = get_factors(tmp_df, window_size, std_period, factor_background, window_size)\n",
    "        tmp_obs_df = tmp_obs_df.append(tmp_df_1)\n",
    "        tmp_price.append(tmp_df.close.iloc[-1])\n",
    "        if b == len(stocks)-1:\n",
    "            tmp_price.append(tmp_df.date.iloc[-1])\n",
    "        else:\n",
    "            pass\n",
    "    train_obs.append(tmp_obs_df.to_numpy())\n",
    "    train_price.append(tmp_price)\n",
    "    train_symbols.append(stocks)\n",
    "train_obs = np.asarray(train_obs)\n",
    "np.save('处理后数据//train_obs'+str(std_period)+'.npy', train_obs)\n",
    "train_price = np.asarray(train_price)\n",
    "np.save('处理后数据//train_price'+str(std_period)+'.npy', train_price)\n",
    "train_symbols = np.asarray(train_symbols)\n",
    "np.save('处理后数据//train_symbols'+str(std_period)+'.npy', train_symbols)\n",
    "\n",
    "train_obs.shape, train_price.shape, train_symbols.shape"
   ]
  },
  {
   "cell_type": "markdown",
   "id": "4acd8152-8fac-4349-9ca4-89014c46b123",
   "metadata": {},
   "source": [
    "## Prepare testing data"
   ]
  },
  {
   "cell_type": "code",
   "execution_count": null,
   "id": "f7098caa-884f-46c9-b976-8e590ee876fb",
   "metadata": {},
   "outputs": [],
   "source": [
    "test_df = pd.read_csv('数据//test_df.csv').drop(columns='Unnamed: 0')\n",
    "stocks = test_df.code.unique()\n",
    "test_len = test_df[test_df.code == stocks[0]].shape[0]\n",
    "test_obs = []\n",
    "test_price = []\n",
    "test_symbols = []\n",
    "for a in tqdm(range(test_len-window_size-factor_background-std_period)):\n",
    "    tmp_obs_df = pd.DataFrame()\n",
    "    tmp_price = []\n",
    "    for b in range(len(stocks)):\n",
    "        tmp_df = test_df[test_df.code == stocks[b]].iloc[a:a+window_size+factor_background+std_period]\n",
    "        tmp_df_1 = get_factors(tmp_df, window_size, std_period)\n",
    "        tmp_obs_df = tmp_obs_df.append(tmp_df_1)\n",
    "        tmp_price.append(tmp_df.close.iloc[-1])\n",
    "        if b == len(stocks)-1:\n",
    "            tmp_price.append(tmp_df.date.iloc[-1])\n",
    "        else:\n",
    "            pass\n",
    "    test_obs.append(tmp_obs_df.to_numpy())\n",
    "    test_price.append(tmp_price)\n",
    "    test_symbols.append(stocks)\n",
    "test_obs = np.asarray(test_obs)\n",
    "np.save('处理后数据//test_obs'+str(std_period)+'.npy', test_obs)\n",
    "test_price = np.asarray(test_price)\n",
    "np.save('处理后数据//test_price'+str(std_period)+'.npy', test_price)\n",
    "test_symbols = np.asarray(test_symbols)\n",
    "np.save('处理后数据//test_symbols'+str(std_period)+'.npy', test_symbols)\n",
    "\n",
    "test_obs.shape, test_price.shape, test_symbols.shape"
   ]
  },
  {
   "cell_type": "code",
   "execution_count": null,
   "id": "9beccd27-c2e2-4312-b6ae-54f1ad47a640",
   "metadata": {},
   "outputs": [],
   "source": []
  }
 ],
 "metadata": {
  "kernelspec": {
   "display_name": "Python 3 (ipykernel)",
   "language": "python",
   "name": "python3"
  },
  "language_info": {
   "codemirror_mode": {
    "name": "ipython",
    "version": 3
   },
   "file_extension": ".py",
   "mimetype": "text/x-python",
   "name": "python",
   "nbconvert_exporter": "python",
   "pygments_lexer": "ipython3",
   "version": "3.10.9"
  }
 },
 "nbformat": 4,
 "nbformat_minor": 5
}
