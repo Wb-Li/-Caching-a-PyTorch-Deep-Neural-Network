{
 "cells": [
  {
   "cell_type": "code",
   "execution_count": null,
   "id": "cd439ed0",
   "metadata": {
    "ExecuteTime": {
     "end_time": "2023-05-31T07:56:09.257843Z",
     "start_time": "2023-05-31T07:56:05.909362Z"
    },
    "tags": []
   },
   "outputs": [],
   "source": [
    "%cd \"C:\\\\Users\\\\Administrator\\\\Desktop\\\\强化学习\\\\中证50指数增强\\\\\"\n",
    "path = \"C:\\\\Users\\\\Administrator\\\\Desktop\\\\强化学习\\\\中证50指数增强\\\\\"\n",
    "\n",
    "import warnings\n",
    "warnings.filterwarnings(\"ignore\")\n",
    "from tqdm import tqdm\n",
    "import numpy as np\n",
    "import random\n",
    "import pandas as pd\n",
    "#显示Dateframe所有列(参数设置为None代表显示所有行，也可以自行设置数字)\n",
    "pd.set_option('display.max_columns',None)\n",
    "#显示Dateframe所有行\n",
    "pd.set_option('display.max_rows',None)\n",
    "#设置Dataframe数据的显示长度，默认为50\n",
    "pd.set_option('max_colwidth',200)\n",
    "#不显示科学计数法\n",
    "pd.set_option('display.float_format', lambda x: '%.2f' % x)\n",
    "from stock_portfoilo_env import *\n",
    "from stable_baselines3 import *\n",
    "from stable_baselines3.common.callbacks import *\n",
    "from stable_baselines3.common.vec_env import *\n",
    "import matplotlib.pyplot as plt\n",
    "plt.rcParams['font.sans-serif'] = ['SimHei']  # 用来正常显示中文标签\n",
    "plt.rcParams['axes.unicode_minus'] = False  # 用来正常显示负号\n",
    "import plotly.graph_objects as go\n",
    "\n",
    "import talib\n",
    "from tqdm import tqdm\n",
    "import torch\n",
    "import os\n",
    "import time\n",
    "import gym"
   ]
  },
  {
   "cell_type": "markdown",
   "id": "380bfe37",
   "metadata": {},
   "source": [
    "# Batch backtesting of all the model files"
   ]
  },
  {
   "cell_type": "code",
   "execution_count": null,
   "id": "e6cbef6c-b2a4-4409-ac46-5151129ac386",
   "metadata": {
    "tags": []
   },
   "outputs": [],
   "source": [
    "def read_model_parameters(folder, tmp_model):\n",
    "    serial_num = []\n",
    "    return_rate = []\n",
    "    counter = 0\n",
    "    for a in range(len(tmp_model)):\n",
    "        if tmp_model[a] == '_':\n",
    "            counter += 1\n",
    "        else:\n",
    "            pass\n",
    "        \n",
    "        if counter <= 0 and counter < 1 and tmp_model[a] != '_':\n",
    "            serial_num.append(tmp_model[a])\n",
    "        else:\n",
    "            pass\n",
    "        \n",
    "        if counter >=1 and counter < 2 and tmp_model[a] != '_':\n",
    "            return_rate.append(tmp_model[a])\n",
    "        else:\n",
    "            pass\n",
    "        \n",
    "    serial_num =  str(serial_num).replace(\",\",\"\").replace(\"'\",\"\").replace(\"[\",\"\").replace(\"]\",\"\").replace(\" \",\"\")\n",
    "    return_rate = str(return_rate).replace(\",\",\"\").replace(\"'\",\"\").replace(\"[\",\"\").replace(\"]\",\"\").replace(\" \",\"\")\n",
    "    tmp_params = np.load(folder+serial_num+'_'+return_rate+'.npy', allow_pickle=True)\n",
    "    window_size = tmp_params[0]\n",
    "    factors = tmp_params[1]\n",
    "    std_rolling = tmp_params[2]\n",
    "    return window_size, factors, std_rolling"
   ]
  },
  {
   "cell_type": "code",
   "execution_count": null,
   "id": "9d68af9b-91ae-47a2-aa24-242b15cead4d",
   "metadata": {
    "ExecuteTime": {
     "end_time": "2023-05-31T07:56:09.738613Z",
     "start_time": "2023-05-31T07:56:09.723990Z"
    },
    "code_folding": [
     1
    ],
    "scrolled": true,
    "tags": []
   },
   "outputs": [],
   "source": [
    "log_dir = path + 'best_models\\\\'\n",
    "if os.path.exists(log_dir) == True:\n",
    "    pass\n",
    "else:\n",
    "    os.makedirs(log_dir) \n",
    "\n",
    "files = os.listdir(log_dir) #得到文件夹下的所有文件名称\n",
    "model_files = []\n",
    "for i in range(len(files)):\n",
    "    tmp_file = files[i]\n",
    "    if '2023-' in tmp_file and 'RewardMethod1' in tmp_file:\n",
    "        model_files.append(tmp_file)\n",
    "    else:\n",
    "        pass\n",
    "\n",
    "len(model_files), model_files"
   ]
  },
  {
   "cell_type": "code",
   "execution_count": null,
   "id": "bb395799",
   "metadata": {
    "scrolled": true,
    "tags": []
   },
   "outputs": [],
   "source": [
    "tmp = []\n",
    "try:\n",
    "    prev_bulk_backtest = pd.read_csv('bulk_backtest.csv').drop(columns='Unnamed: 0')\n",
    "    tested_files = prev_bulk_backtest['model file'].to_list()\n",
    "except:\n",
    "    pass\n",
    "tested_files = []\n",
    "slippage = 2\n",
    "commission_rate = 0.00015\n",
    "tmp = []\n",
    "for i in tqdm(range(len(model_files))):\n",
    "    torch.cuda.empty_cache()\n",
    "   #torch.cuda.set_device(0)\n",
    "    tmp_model = model_files[i]\n",
    "    if tmp_model in tested_files:\n",
    "        print('Tested Model File, Skip')\n",
    "        pass\n",
    "    else:\n",
    "        try:\n",
    "            window_size, _, std_rolling = read_model_parameters(log_dir, tmp_model)\n",
    "        except:\n",
    "            continue\n",
    "        tmp_test_obs = np.load(path+'处理后数据\\\\test_obs'+str(std_rolling)+'.npy', allow_pickle=True).astype('float32')\n",
    "        tmp_test_price = np.load(path+'处理后数据\\\\test_price'+str(std_rolling)+'.npy', allow_pickle=True)\n",
    "        tmp_test_symbols = np.load(path+'处理后数据\\\\test_symbols'+str(std_rolling)+'.npy', allow_pickle=True)\n",
    "        stock_num = len(tmp_test_symbols[0])-1\n",
    "        tmp_test_obs_1 = tmp_test_obs[:,-window_size:,:]\n",
    "        \n",
    "        print('')\n",
    "        print('##########################################################')\n",
    "        #print('Now Using GPU No.', torch.cuda.current_device())\n",
    "        print(tmp_test_obs_1.shape)\n",
    "        print(tmp_model)\n",
    "        #with np.errstate(divide='ignore'):\n",
    "        try:\n",
    "            ###########################################################################################################################\n",
    "            env = TradingEnv(obs=tmp_test_obs_1, price=tmp_test_price, symbols=tmp_test_symbols, both_pos=True, \n",
    "                            commission_rate=commission_rate, valid_folder=None, slippage=slippage, calculate_fund=True,\n",
    "                            commission=None, test=False, valid=False, active_shares=True, cash_out_stop=False, \n",
    "                            returns=1, action_type=2, num_stock=stock_num)\n",
    "            model = A2C.load(log_dir+tmp_model, device='cuda')\n",
    "            obs, _ = env.reset()\n",
    "            tmp_info_1 = None\n",
    "            print('#################################### Out-of-sample Results ####################################')\n",
    "            for i in range(tmp_test_obs_1.shape[0]-2):\n",
    "                action, _states = model.predict(obs, deterministic=True)\n",
    "                obs, rewards, dones, _, info = env.step(action)\n",
    "                if dones == True:\n",
    "                    tmp_info_1 = info\n",
    "                else:\n",
    "                    pass\n",
    "            tmp.append([tmp_model, 'Out-Of-Sample', tmp_info_1['return rate'], tmp_info_1['maxdrawndown'], tmp_info_1['sharpe']])\n",
    "        except:\n",
    "            print('Error: ', tmp_model)\n",
    "            pass\n",
    "bulk_backtest = pd.DataFrame(tmp)\n",
    "bulk_backtest.columns = ['model file', 'type', 'Return Rate', 'Maxdrawndown', 'sharpe']\n",
    "try:\n",
    "    bulk_backtest = bulk_backtest.append(prev_bulk_backtest)\n",
    "except:\n",
    "    pass\n",
    "\n",
    "bulk_backtest.shape, bulk_backtest.head(5)"
   ]
  },
  {
   "cell_type": "code",
   "execution_count": null,
   "id": "b1bfe1c7",
   "metadata": {},
   "outputs": [],
   "source": [
    "try:\n",
    "    bulk_backtest.to_csv('bulk_backtest.csv')\n",
    "except:\n",
    "    pass\n",
    "bulk_backtest = pd.read_csv('bulk_backtest.csv').drop(columns='Unnamed: 0').sort_values(by='Return Rate', ascending=False).reset_index(drop=True)\n",
    "\n",
    "bulk_backtest.head(10)"
   ]
  },
  {
   "cell_type": "code",
   "execution_count": null,
   "id": "dd31ac61",
   "metadata": {
    "ExecuteTime": {
     "end_time": "2023-05-31T07:56:58.472650Z",
     "start_time": "2023-05-31T07:56:58.458811Z"
    },
    "code_folding": [
     0
    ],
    "tags": []
   },
   "outputs": [],
   "source": [
    "def plot_backtest(reward, benchmark, split):\n",
    "    networth = reward\n",
    "    acc_networth = []\n",
    "    for i in range(len(networth)):\n",
    "        acc_networth.append((networth[i]-networth[0])/networth[0])\n",
    "    print('账户总收益: ', np.around(acc_networth[-1]*100, 2), '%')\n",
    "    try:\n",
    "        print('基准指数总收益: ', np.around(benchmark[-1]*100, 2), '%')\n",
    "        print('超额收益: ',  np.around((acc_networth[-1]-benchmark[-1])*100, 2), '%')\n",
    "    except:\n",
    "        pass\n",
    "    %matplotlib inline\n",
    "    plt.figure(figsize=(16,8))\n",
    "    plt.axvline(split, color='red', label=\"测试集|验证集\")\n",
    "    plt.plot(acc_networth, label=\"账户收益率\")\n",
    "    plt.plot(benchmark, label='基准收益率')\n",
    "    plt.xlabel(\"数据索引\")\n",
    "    plt.ylabel(\"收益率\")\n",
    "    plt.title(\"回测资金曲线\")\n",
    "    plt.legend(loc='best',frameon=False)\n",
    "    plt.show()"
   ]
  },
  {
   "cell_type": "markdown",
   "id": "ce382923-012c-4239-b0b7-e74258d0e5fe",
   "metadata": {},
   "source": [
    "# Load data"
   ]
  },
  {
   "cell_type": "code",
   "execution_count": null,
   "id": "6b585468",
   "metadata": {
    "ExecuteTime": {
     "end_time": "2023-05-31T07:56:59.883873Z",
     "start_time": "2023-05-31T07:56:59.874610Z"
    },
    "code_folding": [
     4
    ],
    "scrolled": true,
    "tags": []
   },
   "outputs": [],
   "source": [
    "tmp_model = bulk_backtest.iloc[0]['model file']\n",
    "window_size, num_features, std_rolling = read_model_parameters(log_dir, tmp_model)\n",
    "\n",
    "window_size, std_rolling"
   ]
  },
  {
   "cell_type": "code",
   "execution_count": null,
   "id": "d8a068de-85a4-4a33-9146-bc6e861be5fb",
   "metadata": {
    "tags": []
   },
   "outputs": [],
   "source": [
    "tmp_test_obs = np.load(path+'处理后数据\\\\test_obs'+str(std_rolling)+'.npy', allow_pickle=True).astype('float32')\n",
    "tmp_test_price = np.load(path+'处理后数据\\\\test_price'+str(std_rolling)+'.npy', allow_pickle=True)\n",
    "tmp_test_symbols = np.load(path+'处理后数据\\\\test_symbols'+str(std_rolling)+'.npy', allow_pickle=True)\n",
    "\n",
    "tmp_test_obs_1 = tmp_test_obs[:,-window_size:,:]\n",
    "\n",
    "test_benchmark_prices = tmp_test_price[:,:-1].astype('float')\n",
    "first_avg = np.mean(test_benchmark_prices[0])\n",
    "test_benchmark_avg_prices = [first_avg]\n",
    "for i in range(1, len(test_benchmark_prices)):\n",
    "    tmp_avg = np.mean(test_benchmark_prices[i])\n",
    "    test_benchmark_avg_prices.append(tmp_avg)\n",
    "test_benchmark_prices = pd.Series(test_benchmark_avg_prices)\n",
    "test_benchmark_prices['networth'] = (test_benchmark_prices-test_benchmark_prices.iloc[0])/test_benchmark_prices.iloc[0]\n",
    "test_benchmark_prices = test_benchmark_prices['networth'].values\n",
    "test_benchmark_dates = []\n",
    "for i in range(tmp_test_price.shape[0]):\n",
    "    test_benchmark_dates.append(tmp_test_price[i,-1])\n",
    "test_benchmark_dates = np.asarray(test_benchmark_dates)\n",
    "\n",
    "tmp_test_obs_1.shape, test_benchmark_dates.shape"
   ]
  },
  {
   "cell_type": "markdown",
   "id": "92d06d35",
   "metadata": {},
   "source": [
    "# Load model and backtest (test data)"
   ]
  },
  {
   "cell_type": "code",
   "execution_count": null,
   "id": "e3634a9e",
   "metadata": {
    "ExecuteTime": {
     "end_time": "2023-05-31T07:58:00.810592Z",
     "start_time": "2023-05-31T07:57:54.341307Z"
    },
    "code_folding": [
     2,
     10
    ],
    "tags": []
   },
   "outputs": [],
   "source": [
    "env = TradingEnv(obs=tmp_test_obs_1, price=tmp_test_price, symbols=tmp_test_symbols, both_pos=True, \n",
    "                commission_rate=commission_rate, valid_folder=None, slippage=slippage, calculate_fund=True,\n",
    "                commission=None, test=False, valid=False, active_shares=True, cash_out_stop=False, \n",
    "                returns=1, action_type=2, num_stock=stock_num)\n",
    "model = A2C.load(log_dir+tmp_model, device='cpu')\n",
    "\n",
    "obs, _ = env.reset()\n",
    "reward_test = None\n",
    "for i in tqdm(range(tmp_test_obs_1.shape[0]-2)):\n",
    "    action, _states = model.predict(obs, deterministic=True)\n",
    "    obs, rewards, dones, _, tmp_info = env.step(action)\n",
    "test_account_his = tmp_info['account_history']"
   ]
  },
  {
   "cell_type": "code",
   "execution_count": null,
   "id": "f9c51892",
   "metadata": {
    "ExecuteTime": {
     "end_time": "2023-05-31T07:58:13.173685Z",
     "start_time": "2023-05-31T07:58:12.954560Z"
    },
    "code_folding": [
     3
    ],
    "tags": []
   },
   "outputs": [],
   "source": [
    "print('样本外数据开始日期: ', tmp_test_price[0,-1], ', 样本外数据结束日期：', tmp_test_price[-1,-1])\n",
    "plot_backtest(test_account_his, test_benchmark_prices, 252)"
   ]
  },
  {
   "cell_type": "code",
   "execution_count": null,
   "id": "3bbeff1e-db78-45cf-9886-474b2a9588c8",
   "metadata": {},
   "outputs": [],
   "source": []
  }
 ],
 "metadata": {
  "kernelspec": {
   "display_name": "Python 3 (ipykernel)",
   "language": "python",
   "name": "python3"
  },
  "language_info": {
   "codemirror_mode": {
    "name": "ipython",
    "version": 3
   },
   "file_extension": ".py",
   "mimetype": "text/x-python",
   "name": "python",
   "nbconvert_exporter": "python",
   "pygments_lexer": "ipython3",
   "version": "3.10.9"
  },
  "toc": {
   "base_numbering": 1,
   "nav_menu": {},
   "number_sections": true,
   "sideBar": true,
   "skip_h1_title": false,
   "title_cell": "Table of Contents",
   "title_sidebar": "Contents",
   "toc_cell": false,
   "toc_position": {},
   "toc_section_display": true,
   "toc_window_display": false
  },
  "varInspector": {
   "cols": {
    "lenName": 16,
    "lenType": 16,
    "lenVar": 40
   },
   "kernels_config": {
    "python": {
     "delete_cmd_postfix": "",
     "delete_cmd_prefix": "del ",
     "library": "var_list.py",
     "varRefreshCmd": "print(var_dic_list())"
    },
    "r": {
     "delete_cmd_postfix": ") ",
     "delete_cmd_prefix": "rm(",
     "library": "var_list.r",
     "varRefreshCmd": "cat(var_dic_list()) "
    }
   },
   "types_to_exclude": [
    "module",
    "function",
    "builtin_function_or_method",
    "instance",
    "_Feature"
   ],
   "window_display": false
  },
  "vscode": {
   "interpreter": {
    "hash": "71159c3bea1635b2cdba277ecffbc628f93ffdcebf06bf6a363dd68ab8387877"
   }
  }
 },
 "nbformat": 4,
 "nbformat_minor": 5
}
